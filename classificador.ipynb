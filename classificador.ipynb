{
  "nbformat": 4,
  "nbformat_minor": 0,
  "metadata": {
    "colab": {
      "name": "classificador.ipynb",
      "provenance": [],
      "collapsed_sections": [],
      "authorship_tag": "ABX9TyMIoJ+LW0/pmx3kW7WTCD/o",
      "include_colab_link": true
    },
    "kernelspec": {
      "name": "python3",
      "display_name": "Python 3"
    },
    "language_info": {
      "name": "python"
    }
  },
  "cells": [
    {
      "cell_type": "markdown",
      "metadata": {
        "id": "view-in-github",
        "colab_type": "text"
      },
      "source": [
        "<a href=\"https://colab.research.google.com/github/gustavofelicidade/cyberlabs_desafio_tecnico/blob/main/classificador.ipynb\" target=\"_parent\"><img src=\"https://colab.research.google.com/assets/colab-badge.svg\" alt=\"Open In Colab\"/></a>"
      ]
    },
    {
      "cell_type": "code",
      "metadata": {
        "id": "3fyvOGGDiF6n"
      },
      "source": [
        "# Plotar instâncias mnist ad hoc\n",
        "from keras.datasets import mnist\n",
        "import matplotlib.pyplot as plt\n",
        "%matplotlib inline\n",
        "\n"
      ],
      "execution_count": 7,
      "outputs": []
    },
    {
      "cell_type": "code",
      "metadata": {
        "id": "N3Pk3ECBkrRL"
      },
      "source": [
        "# carregar (baixado se necessário) o conjunto de dados MNIST\n",
        "(X_train, y_train), (X_test, y_test) = mnist.load_data()"
      ],
      "execution_count": 8,
      "outputs": []
    },
    {
      "cell_type": "code",
      "metadata": {
        "colab": {
          "base_uri": "https://localhost:8080/",
          "height": 268
        },
        "id": "zMme5C4dkrcq",
        "outputId": "e132030a-4c9c-4ee6-adba-4adb6c293bb0"
      },
      "source": [
        "# plotar 4 imagens em escala de cinzaplt.subplot(221)\n",
        "plt.subplot(221)\n",
        "plt.imshow(X_train[0], cmap=plt.get_cmap('gray'))\n",
        "plt.subplot(222)\n",
        "plt.imshow(X_train[1], cmap=plt.get_cmap('gray'))\n",
        "plt.subplot(223)\n",
        "plt.imshow(X_train[2], cmap=plt.get_cmap('gray'))\n",
        "plt.subplot(224)\n",
        "plt.imshow(X_train[3], cmap=plt.get_cmap('gray'))\n",
        "# mostra o plot\n",
        "plt.show()"
      ],
      "execution_count": 14,
      "outputs": [
        {
          "output_type": "display_data",
          "data": {
            "image/png": "[encoded data removed]",
            "text/plain": [
              "<Figure size 432x288 with 4 Axes>"
            ]
          },
          "metadata": {
            "needs_background": "light"
          }
        }
      ]
    },
    {
      "cell_type": "code",
      "metadata": {
        "id": "tTbDRuBWkx8Z"
      },
      "source": [
        "import numpy\n",
        "from keras.datasets import mnist\n",
        "from keras.models import Sequential\n",
        "from keras.layers import Dense\n",
        "from keras.layers import Dropout\n",
        "from keras.utils import np_utils"
      ],
      "execution_count": 15,
      "outputs": []
    },
    {
      "cell_type": "code",
      "metadata": {
        "id": "OscJsDq0l6Xv"
      },
      "source": [
        "# fix random aleatória para reprodutibilidade\n",
        "seed = 7\n",
        "numpy.random.seed(seed)"
      ],
      "execution_count": 16,
      "outputs": []
    },
    {
      "cell_type": "code",
      "metadata": {
        "id": "G4t9qXb8mD6Z"
      },
      "source": [
        "# load data\n",
        "(X_train, y_train), (X_test, y_test) = mnist.load_data()"
      ],
      "execution_count": 17,
      "outputs": []
    },
    {
      "cell_type": "code",
      "metadata": {
        "id": "PSXHjcN0mEDp"
      },
      "source": [
        "# flatten 28*28 images to a 784 vector for each image\n",
        "num_pixels = X_train.shape[1] * X_train.shape[2]\n",
        "X_train = X_train.reshape(X_train.shape[0], num_pixels).astype( 'float32' )\n",
        "X_test = X_test.reshape(X_test.shape[0], num_pixels).astype( 'float32' )"
      ],
      "execution_count": 19,
      "outputs": []
    },
    {
      "cell_type": "code",
      "metadata": {
        "id": "ftUv4n9_mEL5"
      },
      "source": [
        "# normalize inputs from 0-255 to 0-1\n",
        "X_train = X_train / 255\n",
        "X_test = X_test / 255"
      ],
      "execution_count": 20,
      "outputs": []
    },
    {
      "cell_type": "code",
      "metadata": {
        "id": "hAlLRmjkmETH"
      },
      "source": [
        "# one hot encode outputs\n",
        "y_train = np_utils.to_categorical(y_train)\n",
        "y_test = np_utils.to_categorical(y_test)\n",
        "num_classes = y_test.shape[1]"
      ],
      "execution_count": 21,
      "outputs": []
    },
    {
      "cell_type": "code",
      "metadata": {
        "id": "jGgWIPKemE5J"
      },
      "source": [
        "# define baseline model\n",
        "def baseline_model():\n",
        "# create model\n",
        "  model = Sequential()\n",
        "  model.add(Dense(num_pixels, input_dim = num_pixels, activation= 'relu' ))\n",
        "  model.add(Dense(num_classes, activation = 'softmax' ))\n",
        "  # Compile model\n",
        "  model.compile(loss= 'categorical_crossentropy' , optimizer = 'adam' , metrics=[ 'accuracy' ])\n",
        "  return model"
      ],
      "execution_count": 35,
      "outputs": []
    },
    {
      "cell_type": "code",
      "metadata": {
        "colab": {
          "base_uri": "https://localhost:8080/"
        },
        "id": "Yhifr4wWmFAp",
        "outputId": "dffbcfc8-f06c-4792-f0b3-5f66ee94d7a5"
      },
      "source": [
        "# build the model\n",
        "model = baseline_model()\n",
        "# Fit the model\n",
        "model.fit(X_train, y_train, validation_data=(X_test, y_test), batch_size=20, epochs=10, verbose=2)\n",
        "# Final evaluation of the model\n",
        "scores = model.evaluate(X_test, y_test, verbose=0)\n",
        "print(\"Baseline Error: %.2f%%\" % (100-scores[1]*100))"
      ],
      "execution_count": 40,
      "outputs": [
        {
          "output_type": "stream",
          "name": "stdout",
          "text": [
            "Epoch 1/10\n",
            "3000/3000 - 11s - loss: 0.1815 - accuracy: 0.9451 - val_loss: 0.0890 - val_accuracy: 0.9720\n",
            "Epoch 2/10\n",
            "3000/3000 - 10s - loss: 0.0751 - accuracy: 0.9770 - val_loss: 0.0737 - val_accuracy: 0.9758\n",
            "Epoch 3/10\n",
            "3000/3000 - 11s - loss: 0.0495 - accuracy: 0.9843 - val_loss: 0.0783 - val_accuracy: 0.9782\n",
            "Epoch 4/10\n",
            "3000/3000 - 11s - loss: 0.0375 - accuracy: 0.9883 - val_loss: 0.0750 - val_accuracy: 0.9779\n",
            "Epoch 5/10\n",
            "3000/3000 - 10s - loss: 0.0287 - accuracy: 0.9905 - val_loss: 0.0813 - val_accuracy: 0.9789\n",
            "Epoch 6/10\n",
            "3000/3000 - 11s - loss: 0.0220 - accuracy: 0.9927 - val_loss: 0.0761 - val_accuracy: 0.9816\n",
            "Epoch 7/10\n",
            "3000/3000 - 10s - loss: 0.0190 - accuracy: 0.9934 - val_loss: 0.0876 - val_accuracy: 0.9811\n",
            "Epoch 8/10\n",
            "3000/3000 - 10s - loss: 0.0165 - accuracy: 0.9945 - val_loss: 0.1045 - val_accuracy: 0.9789\n",
            "Epoch 9/10\n",
            "3000/3000 - 10s - loss: 0.0160 - accuracy: 0.9946 - val_loss: 0.0964 - val_accuracy: 0.9812\n",
            "Epoch 10/10\n",
            "3000/3000 - 10s - loss: 0.0148 - accuracy: 0.9954 - val_loss: 0.0978 - val_accuracy: 0.9797\n",
            "Baseline Error: 2.03%\n"
          ]
        }
      ]
    },
    {
      "cell_type": "code",
      "metadata": {
        "id": "RWBzSnAym3xs"
      },
      "source": [
        ""
      ],
      "execution_count": null,
      "outputs": []
    },
    {
      "cell_type": "code",
      "metadata": {
        "id": "bM90qrt6m4Lp"
      },
      "source": [
        ""
      ],
      "execution_count": null,
      "outputs": []
    },
    {
      "cell_type": "code",
      "metadata": {
        "id": "8lgcrdHLm4W4"
      },
      "source": [
        ""
      ],
      "execution_count": null,
      "outputs": []
    },
    {
      "cell_type": "code",
      "metadata": {
        "id": "fgEfIU0Vm4fp"
      },
      "source": [
        ""
      ],
      "execution_count": null,
      "outputs": []
    },
    {
      "cell_type": "code",
      "metadata": {
        "id": "PO3Q72enm4o4"
      },
      "source": [
        ""
      ],
      "execution_count": null,
      "outputs": []
    },
    {
      "cell_type": "code",
      "metadata": {
        "id": "ARbXmpyEm4yI"
      },
      "source": [
        ""
      ],
      "execution_count": null,
      "outputs": []
    },
    {
      "cell_type": "code",
      "metadata": {
        "id": "wI3NmGWWm46Y"
      },
      "source": [
        ""
      ],
      "execution_count": null,
      "outputs": []
    },
    {
      "cell_type": "code",
      "metadata": {
        "id": "S9S9pgSvm5C5"
      },
      "source": [
        ""
      ],
      "execution_count": null,
      "outputs": []
    }
  ]
}