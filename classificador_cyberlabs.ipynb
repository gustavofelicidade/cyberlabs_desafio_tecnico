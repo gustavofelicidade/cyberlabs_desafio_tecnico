{
  "nbformat": 4,
  "nbformat_minor": 0,
  "metadata": {
    "colab": {
      "name": "classificador_cyberlabs",
      "provenance": [],
      "collapsed_sections": [],
      "authorship_tag": "ABX9TyOK8V4Rt1Vzwp15rBg8e3uB",
      "include_colab_link": true
    },
    "kernelspec": {
      "name": "python3",
      "display_name": "Python 3"
    },
    "language_info": {
      "name": "python"
    },
    "accelerator": "GPU"
  },
  "cells": [
    {
      "cell_type": "markdown",
      "metadata": {
        "id": "view-in-github",
        "colab_type": "text"
      },
      "source": [
        "<a href=\"https://colab.research.google.com/github/gustavofelicidade/cyberlabs_desafio_tecnico/blob/main/classificador_cyberlabs.ipynb\" target=\"_parent\"><img src=\"https://colab.research.google.com/assets/colab-badge.svg\" alt=\"Open In Colab\"/></a>"
      ]
    },
    {
      "cell_type": "markdown",
      "metadata": {
        "id": "HywBj1nUQ4WT"
      },
      "source": [
        "# **Classificador capaz de diferenciar os números 0 e 5 do dataset MNIST.**"
      ]
    },
    {
      "cell_type": "markdown",
      "metadata": {
        "id": "7ligKh3FWiFV"
      },
      "source": [
        "Para compreender a funcionalidade do sistema classificador dos números 0 e 5 no dataset, baseado no programação de um modelo CNN,\n",
        "leia atentamente os textos, os scripts e comentários nas células a seguir. \n",
        "\n",
        "Lendo o passo a passo até o final você irá entender como funciona um classificador utilizando **Keras** e o **Tensorflow**.\n",
        "\n",
        "**Instruções para Execução do Notebook:**\n",
        "\n",
        "**Ctrl + F9** = *para Executar tudo de um vez* |\n",
        "**Ctrl + F8** = *para executar antes* |\n",
        "**Shift + Enter** = *para executar célula por célula* "
      ]
    },
    {
      "cell_type": "code",
      "metadata": {
        "id": "-Ehz_sjI15Tn"
      },
      "source": [
        "import numpy as np\n",
        "import matplotlib.pyplot as plt  \n",
        "%matplotlib inline\n",
        "import cv2\n",
        "\n",
        "import tensorflow as tf\n",
        "\n",
        "from tensorflow.keras.models import  Sequential\n",
        "from tensorflow.keras.layers import  Dense, Dropout, Activation, Flatten, Conv2D, MaxPooling2D"
      ],
      "execution_count": 1,
      "outputs": []
    },
    {
      "cell_type": "code",
      "metadata": {
        "colab": {
          "base_uri": "https://localhost:8080/",
          "height": 36
        },
        "id": "orhzOaMaGsVY",
        "outputId": "9a82ea67-9d96-40b4-fdd0-8933e2483bc8"
      },
      "source": [
        "tf.__version__  # Verificar a versão do Tensorflow para usar os parâmetros conscientemente."
      ],
      "execution_count": 2,
      "outputs": [
        {
          "output_type": "execute_result",
          "data": {
            "application/vnd.google.colaboratory.intrinsic+json": {
              "type": "string"
            },
            "text/plain": [
              "'2.6.0'"
            ]
          },
          "metadata": {},
          "execution_count": 2
        }
      ]
    },
    {
      "cell_type": "markdown",
      "metadata": {
        "id": "dZznS0jssNox"
      },
      "source": [
        "**Python Random seed() Method**\n",
        "\n",
        "Usar este parâmetro garante que qualquer pessoa que execute novamente seu código obterá exatamente os mesmos resultados.\n",
        "\n",
        "*O método seed () é usado para inicializar o gerador de números aleatórios.*"
      ]
    },
    {
      "cell_type": "code",
      "metadata": {
        "id": "r0PjcdRRsRL3"
      },
      "source": [
        "# fix random aleatória para reprodutibilidade\n",
        "seed = 7\n",
        "np.random.seed(seed)"
      ],
      "execution_count": 4,
      "outputs": []
    },
    {
      "cell_type": "markdown",
      "metadata": {
        "id": "5ls-dxJ0sow5"
      },
      "source": [
        "A biblioteca de Deep Learning **Keras** fornece um método conveniente para carregar o conjunto de dados MNIST:\n"
      ]
    },
    {
      "cell_type": "code",
      "metadata": {
        "id": "ZDkVS6QA2DAN"
      },
      "source": [
        "# Carregar o dataset MNIST \n",
        "# Este dataset é basicamente de caractéres escritos a mão no formato de imagens de 28x28 de tamanho de números de 0 a 9.\n",
        "(X_train, y_train), (X_test, y_test) = tf.keras.datasets.mnist.load_data() # e dividir o dataset entre treino e teste\n",
        "\n"
      ],
      "execution_count": 3,
      "outputs": []
    },
    {
      "cell_type": "code",
      "metadata": {
        "colab": {
          "base_uri": "https://localhost:8080/"
        },
        "id": "aY7nWPvh4rMP",
        "outputId": "0b8262e6-c071-4f14-f5f4-a4df82aec0bc"
      },
      "source": [
        "# Verificando o tamanho da imagem original\n",
        "X_train[0].shape"
      ],
      "execution_count": 36,
      "outputs": [
        {
          "output_type": "execute_result",
          "data": {
            "text/plain": [
              "(28, 28)"
            ]
          },
          "metadata": {},
          "execution_count": 36
        }
      ]
    },
    {
      "cell_type": "code",
      "metadata": {
        "colab": {
          "base_uri": "https://localhost:8080/",
          "height": 513
        },
        "id": "Tlm98Y6Q-ILZ",
        "outputId": "ba5453d2-43b9-4412-e7bf-97f646b96fc6"
      },
      "source": [
        "# Exibindo a primeira amostra do dataset de treino.\n",
        "# Apenas para checar os dados -> Para ver como se parecem.\n",
        "plt.imshow(X_train[0])\n",
        "\n",
        "# A imagem do dado de treino no index 0:\n",
        "plt.show()\n",
        "\n",
        "# Vamos também plotar uma versão com a configuração de cor binária:\n",
        "plt.imshow(X_train[0], cmap= plt.cm.binary)\n",
        "plt.show()"
      ],
      "execution_count": 5,
      "outputs": [
        {
          "output_type": "display_data",
          "data": {
            "image/png": "[encoded data removed]",
            "text/plain": [
              "<Figure size 432x288 with 1 Axes>"
            ]
          },
          "metadata": {
            "needs_background": "light"
          }
        },
        {
          "output_type": "display_data",
          "data": {
            "image/png": "[encoded data removed]",
            "text/plain": [
              "<Figure size 432x288 with 1 Axes>"
            ]
          },
          "metadata": {
            "needs_background": "light"
          }
        }
      ]
    },
    {
      "cell_type": "markdown",
      "metadata": {
        "id": "3v4Kgv39_E27"
      },
      "source": [
        "# Verificar os valores de cada pixel antes de aplicar Normalização"
      ]
    },
    {
      "cell_type": "code",
      "metadata": {
        "colab": {
          "base_uri": "https://localhost:8080/"
        },
        "id": "a060n7tZ-7ml",
        "outputId": "f3f31a9b-6dbd-4911-fca3-a2a0b3158023"
      },
      "source": [
        "print(X_train[0])  # antes da normalização"
      ],
      "execution_count": 6,
      "outputs": [
        {
          "output_type": "stream",
          "name": "stdout",
          "text": [
            "[[  0   0   0   0   0   0   0   0   0   0   0   0   0   0   0   0   0   0\n",
            "    0   0   0   0   0   0   0   0   0   0]\n",
            " [  0   0   0   0   0   0   0   0   0   0   0   0   0   0   0   0   0   0\n",
            "    0   0   0   0   0   0   0   0   0   0]\n",
            " [  0   0   0   0   0   0   0   0   0   0   0   0   0   0   0   0   0   0\n",
            "    0   0   0   0   0   0   0   0   0   0]\n",
            " [  0   0   0   0   0   0   0   0   0   0   0   0   0   0   0   0   0   0\n",
            "    0   0   0   0   0   0   0   0   0   0]\n",
            " [  0   0   0   0   0   0   0   0   0   0   0   0   0   0   0   0   0   0\n",
            "    0   0   0   0   0   0   0   0   0   0]\n",
            " [  0   0   0   0   0   0   0   0   0   0   0   0   3  18  18  18 126 136\n",
            "  175  26 166 255 247 127   0   0   0   0]\n",
            " [  0   0   0   0   0   0   0   0  30  36  94 154 170 253 253 253 253 253\n",
            "  225 172 253 242 195  64   0   0   0   0]\n",
            " [  0   0   0   0   0   0   0  49 238 253 253 253 253 253 253 253 253 251\n",
            "   93  82  82  56  39   0   0   0   0   0]\n",
            " [  0   0   0   0   0   0   0  18 219 253 253 253 253 253 198 182 247 241\n",
            "    0   0   0   0   0   0   0   0   0   0]\n",
            " [  0   0   0   0   0   0   0   0  80 156 107 253 253 205  11   0  43 154\n",
            "    0   0   0   0   0   0   0   0   0   0]\n",
            " [  0   0   0   0   0   0   0   0   0  14   1 154 253  90   0   0   0   0\n",
            "    0   0   0   0   0   0   0   0   0   0]\n",
            " [  0   0   0   0   0   0   0   0   0   0   0 139 253 190   2   0   0   0\n",
            "    0   0   0   0   0   0   0   0   0   0]\n",
            " [  0   0   0   0   0   0   0   0   0   0   0  11 190 253  70   0   0   0\n",
            "    0   0   0   0   0   0   0   0   0   0]\n",
            " [  0   0   0   0   0   0   0   0   0   0   0   0  35 241 225 160 108   1\n",
            "    0   0   0   0   0   0   0   0   0   0]\n",
            " [  0   0   0   0   0   0   0   0   0   0   0   0   0  81 240 253 253 119\n",
            "   25   0   0   0   0   0   0   0   0   0]\n",
            " [  0   0   0   0   0   0   0   0   0   0   0   0   0   0  45 186 253 253\n",
            "  150  27   0   0   0   0   0   0   0   0]\n",
            " [  0   0   0   0   0   0   0   0   0   0   0   0   0   0   0  16  93 252\n",
            "  253 187   0   0   0   0   0   0   0   0]\n",
            " [  0   0   0   0   0   0   0   0   0   0   0   0   0   0   0   0   0 249\n",
            "  253 249  64   0   0   0   0   0   0   0]\n",
            " [  0   0   0   0   0   0   0   0   0   0   0   0   0   0  46 130 183 253\n",
            "  253 207   2   0   0   0   0   0   0   0]\n",
            " [  0   0   0   0   0   0   0   0   0   0   0   0  39 148 229 253 253 253\n",
            "  250 182   0   0   0   0   0   0   0   0]\n",
            " [  0   0   0   0   0   0   0   0   0   0  24 114 221 253 253 253 253 201\n",
            "   78   0   0   0   0   0   0   0   0   0]\n",
            " [  0   0   0   0   0   0   0   0  23  66 213 253 253 253 253 198  81   2\n",
            "    0   0   0   0   0   0   0   0   0   0]\n",
            " [  0   0   0   0   0   0  18 171 219 253 253 253 253 195  80   9   0   0\n",
            "    0   0   0   0   0   0   0   0   0   0]\n",
            " [  0   0   0   0  55 172 226 253 253 253 253 244 133  11   0   0   0   0\n",
            "    0   0   0   0   0   0   0   0   0   0]\n",
            " [  0   0   0   0 136 253 253 253 212 135 132  16   0   0   0   0   0   0\n",
            "    0   0   0   0   0   0   0   0   0   0]\n",
            " [  0   0   0   0   0   0   0   0   0   0   0   0   0   0   0   0   0   0\n",
            "    0   0   0   0   0   0   0   0   0   0]\n",
            " [  0   0   0   0   0   0   0   0   0   0   0   0   0   0   0   0   0   0\n",
            "    0   0   0   0   0   0   0   0   0   0]\n",
            " [  0   0   0   0   0   0   0   0   0   0   0   0   0   0   0   0   0   0\n",
            "    0   0   0   0   0   0   0   0   0   0]]\n"
          ]
        }
      ]
    },
    {
      "cell_type": "markdown",
      "metadata": {
        "id": "iQ_tca_I_tdU"
      },
      "source": [
        "**Como as imagens estão em nível de cinza (1 canal ==> 0 a 255), não coloridas RGB)**"
      ]
    },
    {
      "cell_type": "markdown",
      "metadata": {
        "id": "fdII1dfBABFH"
      },
      "source": [
        "# Normalizando os dados | Pré processo"
      ]
    },
    {
      "cell_type": "code",
      "metadata": {
        "colab": {
          "base_uri": "https://localhost:8080/",
          "height": 264
        },
        "id": "PlPQsqt2_h1F",
        "outputId": "b84bf1d5-36b5-4f6c-ff5a-fc7327791300"
      },
      "source": [
        "# Você deve ter notado que as imagens estão na escala cinza\n",
        "# e os valores variam de 0 a 255\n",
        "# para normalizar isso:\n",
        "\n",
        "X_train = tf.keras.utils.normalize(X_train, axis = 1)\n",
        "X_test  = tf.keras.utils.normalize(X_test, axis = 1)\n",
        "plt.imshow(X_train[0], cmap= plt.cm.binary)\n",
        "plt.show()"
      ],
      "execution_count": 7,
      "outputs": [
        {
          "output_type": "display_data",
          "data": {
            "image/png": "[encoded data removed]",
            "text/plain": [
              "<Figure size 432x288 with 1 Axes>"
            ]
          },
          "metadata": {
            "needs_background": "light"
          }
        }
      ]
    },
    {
      "cell_type": "markdown",
      "metadata": {
        "id": "54rD5vI0BObA"
      },
      "source": [
        "Depois da Normalização\n"
      ]
    },
    {
      "cell_type": "code",
      "metadata": {
        "colab": {
          "base_uri": "https://localhost:8080/"
        },
        "id": "cn8xt19ABR_I",
        "outputId": "d3d3c01a-d3bc-4033-9918-e55f55865b15"
      },
      "source": [
        "print(X_train[0]) # Como pode ver, todos os valores estão normalizados"
      ],
      "execution_count": 8,
      "outputs": [
        {
          "output_type": "stream",
          "name": "stdout",
          "text": [
            "[[0.         0.         0.         0.         0.         0.\n",
            "  0.         0.         0.         0.         0.         0.\n",
            "  0.         0.         0.         0.         0.         0.\n",
            "  0.         0.         0.         0.         0.         0.\n",
            "  0.         0.         0.         0.        ]\n",
            " [0.         0.         0.         0.         0.         0.\n",
            "  0.         0.         0.         0.         0.         0.\n",
            "  0.         0.         0.         0.         0.         0.\n",
            "  0.         0.         0.         0.         0.         0.\n",
            "  0.         0.         0.         0.        ]\n",
            " [0.         0.         0.         0.         0.         0.\n",
            "  0.         0.         0.         0.         0.         0.\n",
            "  0.         0.         0.         0.         0.         0.\n",
            "  0.         0.         0.         0.         0.         0.\n",
            "  0.         0.         0.         0.        ]\n",
            " [0.         0.         0.         0.         0.         0.\n",
            "  0.         0.         0.         0.         0.         0.\n",
            "  0.         0.         0.         0.         0.         0.\n",
            "  0.         0.         0.         0.         0.         0.\n",
            "  0.         0.         0.         0.        ]\n",
            " [0.         0.         0.         0.         0.         0.\n",
            "  0.         0.         0.         0.         0.         0.\n",
            "  0.         0.         0.         0.         0.         0.\n",
            "  0.         0.         0.         0.         0.         0.\n",
            "  0.         0.         0.         0.        ]\n",
            " [0.         0.         0.         0.         0.         0.\n",
            "  0.         0.         0.         0.         0.         0.\n",
            "  0.00393124 0.02332955 0.02620568 0.02625207 0.17420356 0.17566281\n",
            "  0.28629534 0.05664824 0.51877786 0.71632322 0.77892406 0.89301644\n",
            "  0.         0.         0.         0.        ]\n",
            " [0.         0.         0.         0.         0.         0.\n",
            "  0.         0.         0.05780486 0.06524513 0.16128198 0.22713296\n",
            "  0.22277047 0.32790981 0.36833534 0.3689874  0.34978968 0.32678448\n",
            "  0.368094   0.3747499  0.79066747 0.67980478 0.61494005 0.45002403\n",
            "  0.         0.         0.         0.        ]\n",
            " [0.         0.         0.         0.         0.         0.\n",
            "  0.         0.12250613 0.45858525 0.45852825 0.43408872 0.37314701\n",
            "  0.33153488 0.32790981 0.36833534 0.3689874  0.34978968 0.32420121\n",
            "  0.15214552 0.17865984 0.25626376 0.1573102  0.12298801 0.\n",
            "  0.         0.         0.         0.        ]\n",
            " [0.         0.         0.         0.         0.         0.\n",
            "  0.         0.04500225 0.4219755  0.45852825 0.43408872 0.37314701\n",
            "  0.33153488 0.32790981 0.28826244 0.26543758 0.34149427 0.31128482\n",
            "  0.         0.         0.         0.         0.         0.\n",
            "  0.         0.         0.         0.        ]\n",
            " [0.         0.         0.         0.         0.         0.\n",
            "  0.         0.         0.1541463  0.28272888 0.18358693 0.37314701\n",
            "  0.33153488 0.26569767 0.01601458 0.         0.05945042 0.19891229\n",
            "  0.         0.         0.         0.         0.         0.\n",
            "  0.         0.         0.         0.        ]\n",
            " [0.         0.         0.         0.         0.         0.\n",
            "  0.         0.         0.         0.0253731  0.00171577 0.22713296\n",
            "  0.33153488 0.11664776 0.         0.         0.         0.\n",
            "  0.         0.         0.         0.         0.         0.\n",
            "  0.         0.         0.         0.        ]\n",
            " [0.         0.         0.         0.         0.         0.\n",
            "  0.         0.         0.         0.         0.         0.20500962\n",
            "  0.33153488 0.24625638 0.00291174 0.         0.         0.\n",
            "  0.         0.         0.         0.         0.         0.\n",
            "  0.         0.         0.         0.        ]\n",
            " [0.         0.         0.         0.         0.         0.\n",
            "  0.         0.         0.         0.         0.         0.01622378\n",
            "  0.24897876 0.32790981 0.10191096 0.         0.         0.\n",
            "  0.         0.         0.         0.         0.         0.\n",
            "  0.         0.         0.         0.        ]\n",
            " [0.         0.         0.         0.         0.         0.\n",
            "  0.         0.         0.         0.         0.         0.\n",
            "  0.04586451 0.31235677 0.32757096 0.23335172 0.14931733 0.00129164\n",
            "  0.         0.         0.         0.         0.         0.\n",
            "  0.         0.         0.         0.        ]\n",
            " [0.         0.         0.         0.         0.         0.\n",
            "  0.         0.         0.         0.         0.         0.\n",
            "  0.         0.10498298 0.34940902 0.3689874  0.34978968 0.15370495\n",
            "  0.04089933 0.         0.         0.         0.         0.\n",
            "  0.         0.         0.         0.        ]\n",
            " [0.         0.         0.         0.         0.         0.\n",
            "  0.         0.         0.         0.         0.         0.\n",
            "  0.         0.         0.06551419 0.27127137 0.34978968 0.32678448\n",
            "  0.245396   0.05882702 0.         0.         0.         0.\n",
            "  0.         0.         0.         0.        ]\n",
            " [0.         0.         0.         0.         0.         0.\n",
            "  0.         0.         0.         0.         0.         0.\n",
            "  0.         0.         0.         0.02333517 0.12857881 0.32549285\n",
            "  0.41390126 0.40743158 0.         0.         0.         0.\n",
            "  0.         0.         0.         0.        ]\n",
            " [0.         0.         0.         0.         0.         0.\n",
            "  0.         0.         0.         0.         0.         0.\n",
            "  0.         0.         0.         0.         0.         0.32161793\n",
            "  0.41390126 0.54251585 0.20001074 0.         0.         0.\n",
            "  0.         0.         0.         0.        ]\n",
            " [0.         0.         0.         0.         0.         0.\n",
            "  0.         0.         0.         0.         0.         0.\n",
            "  0.         0.         0.06697006 0.18959827 0.25300993 0.32678448\n",
            "  0.41390126 0.45100715 0.00625034 0.         0.         0.\n",
            "  0.         0.         0.         0.        ]\n",
            " [0.         0.         0.         0.         0.         0.\n",
            "  0.         0.         0.         0.         0.         0.\n",
            "  0.05110617 0.19182076 0.33339444 0.3689874  0.34978968 0.32678448\n",
            "  0.40899334 0.39653769 0.         0.         0.         0.\n",
            "  0.         0.         0.         0.        ]\n",
            " [0.         0.         0.         0.         0.         0.\n",
            "  0.         0.         0.         0.         0.04117838 0.16813739\n",
            "  0.28960162 0.32790981 0.36833534 0.3689874  0.34978968 0.25961929\n",
            "  0.12760592 0.         0.         0.         0.         0.\n",
            "  0.         0.         0.         0.        ]\n",
            " [0.         0.         0.         0.         0.         0.\n",
            "  0.         0.         0.04431706 0.11961607 0.36545809 0.37314701\n",
            "  0.33153488 0.32790981 0.36833534 0.28877275 0.111988   0.00258328\n",
            "  0.         0.         0.         0.         0.         0.\n",
            "  0.         0.         0.         0.        ]\n",
            " [0.         0.         0.         0.         0.         0.\n",
            "  0.05298497 0.42752138 0.4219755  0.45852825 0.43408872 0.37314701\n",
            "  0.33153488 0.25273681 0.11646967 0.01312603 0.         0.\n",
            "  0.         0.         0.         0.         0.         0.\n",
            "  0.         0.         0.         0.        ]\n",
            " [0.         0.         0.         0.         0.37491383 0.56222061\n",
            "  0.66525569 0.63253163 0.48748768 0.45852825 0.43408872 0.359873\n",
            "  0.17428513 0.01425695 0.         0.         0.         0.\n",
            "  0.         0.         0.         0.         0.         0.\n",
            "  0.         0.         0.         0.        ]\n",
            " [0.         0.         0.         0.         0.92705966 0.82698729\n",
            "  0.74473314 0.63253163 0.4084877  0.24466922 0.22648107 0.02359823\n",
            "  0.         0.         0.         0.         0.         0.\n",
            "  0.         0.         0.         0.         0.         0.\n",
            "  0.         0.         0.         0.        ]\n",
            " [0.         0.         0.         0.         0.         0.\n",
            "  0.         0.         0.         0.         0.         0.\n",
            "  0.         0.         0.         0.         0.         0.\n",
            "  0.         0.         0.         0.         0.         0.\n",
            "  0.         0.         0.         0.        ]\n",
            " [0.         0.         0.         0.         0.         0.\n",
            "  0.         0.         0.         0.         0.         0.\n",
            "  0.         0.         0.         0.         0.         0.\n",
            "  0.         0.         0.         0.         0.         0.\n",
            "  0.         0.         0.         0.        ]\n",
            " [0.         0.         0.         0.         0.         0.\n",
            "  0.         0.         0.         0.         0.         0.\n",
            "  0.         0.         0.         0.         0.         0.\n",
            "  0.         0.         0.         0.         0.         0.\n",
            "  0.         0.         0.         0.        ]]\n"
          ]
        }
      ]
    },
    {
      "cell_type": "code",
      "metadata": {
        "colab": {
          "base_uri": "https://localhost:8080/"
        },
        "id": "zkATx_6KBSFY",
        "outputId": "e652a7c3-38e0-4573-9b9d-8648f53401c1"
      },
      "source": [
        "print(y_train[0])  # Checando se temos labels em nossa rede\n",
        "print(y_train[10])"
      ],
      "execution_count": 9,
      "outputs": [
        {
          "output_type": "stream",
          "name": "stdout",
          "text": [
            "5\n",
            "3\n"
          ]
        }
      ]
    },
    {
      "cell_type": "markdown",
      "metadata": {
        "id": "q880nTskCtog"
      },
      "source": [
        "# Redimensionar a imagem para torná-la adequada para aplicar a operação de convolução:"
      ]
    },
    {
      "cell_type": "code",
      "metadata": {
        "colab": {
          "base_uri": "https://localhost:8080/"
        },
        "id": "rJJDMENZBSup",
        "outputId": "f28cf961-ba36-4fff-c287-43745cc512e7"
      },
      "source": [
        "IMG_SIZE=28                                                      # Tamanho da imagem\n",
        "X_trainr = np.array(X_train).reshape(-1, IMG_SIZE, IMG_SIZE, 1 ) # Aumentando um dimensão para operação no kernel\n",
        "X_testr = np.array(X_test).reshape(-1, IMG_SIZE, IMG_SIZE, 1 )   # Aumentando um dimensão para operação no kernel\n",
        "\n",
        "print(\"Dimensões de amostras de treinamento\", X_trainr.shape)\n",
        "print(\"Dimensões de amostras de teste\", X_testr.shape)"
      ],
      "execution_count": 10,
      "outputs": [
        {
          "output_type": "stream",
          "name": "stdout",
          "text": [
            "Dimensões de amostras de treinamento (60000, 28, 28, 1)\n",
            "Dimensões de amostras de teste (10000, 28, 28, 1)\n"
          ]
        }
      ]
    },
    {
      "cell_type": "markdown",
      "metadata": {
        "id": "1iKQemIGPWV6"
      },
      "source": [
        "# Classificando somente os 0's e 5´s\n",
        "\n",
        "Como queremos desenvolver um classificador que reconheça o 0 e o 5 **filtraremos as labels de interesse:**\n",
        "\n",
        "*Ao final deste modelo iremos apresentar um número para a máquina e ela será capaz de reconhecer os números com 99% de acurácia.*"
      ]
    },
    {
      "cell_type": "code",
      "metadata": {
        "colab": {
          "base_uri": "https://localhost:8080/"
        },
        "id": "K8FNu8E1Z9P2",
        "outputId": "b08d559e-6b7a-4cb3-f99f-c17cf278cfc6"
      },
      "source": [
        "# Verificando Tamanho do dataset Original:\n",
        "\n",
        "print(\"Número de exemplos de treinamento original:\", len(X_trainr)) # Imprimindo os exemplos dos valores de treino originais.\n",
        "print(\"Número de exemplos de teste originais:\", len(X_testr))       # Imprimindo os exemplos dos valores de teste originais."
      ],
      "execution_count": 11,
      "outputs": [
        {
          "output_type": "stream",
          "name": "stdout",
          "text": [
            "Número de exemplos de treinamento original: 60000\n",
            "Número de exemplos de teste originais: 10000\n"
          ]
        }
      ]
    },
    {
      "cell_type": "markdown",
      "metadata": {
        "id": "BgvmJvHoO3PH"
      },
      "source": [
        "**Criando o Filtros:**"
      ]
    },
    {
      "cell_type": "code",
      "metadata": {
        "id": "yDOnEk_iZ-eV"
      },
      "source": [
        "# Aqui selecionamos os valores de interesse para os dataset de treino e teste:\n",
        "\n",
        "train_filter = np.where((y_train == 0) | (y_train == 5))   # Filtro das Labels 0's e 5's para o dataset de Treino.\n",
        "test_filter  = np.where((y_test == 0) | (y_test == 5))     # Filtro das Labels 0's e 5's para o dataset de Teste."
      ],
      "execution_count": 12,
      "outputs": []
    },
    {
      "cell_type": "markdown",
      "metadata": {
        "id": "34kJMxUrQrxv"
      },
      "source": [
        "**Aplicando os filtros nos datasets de Treino e Teste:**"
      ]
    },
    {
      "cell_type": "code",
      "metadata": {
        "id": "ZG6YXTH8Z_MP"
      },
      "source": [
        "X_trainr, y_train = X_trainr[train_filter], y_train[train_filter] # Aqui nós estamos aplicando o filtro de treino. \n",
        "X_testr, y_test = X_testr[test_filter], y_test[test_filter]       # Aqui nós estamos aplicando o filtro de teste. "
      ],
      "execution_count": 13,
      "outputs": []
    },
    {
      "cell_type": "code",
      "metadata": {
        "colab": {
          "base_uri": "https://localhost:8080/"
        },
        "id": "Llof2iDsPVTR",
        "outputId": "4d49e666-62ba-4ce3-d7a0-3a30097b13b6"
      },
      "source": [
        "print(\"Número de exemplos de treinamento filtrados:\", len(X_trainr))    # Imprimindo os exemplos dos valores de treino filtrados.\n",
        "print(\"Número de exemplos de teste filtrados:\", len(X_testr))           # Imprimindo os exemplos dos valores de teste filtrados. "
      ],
      "execution_count": 14,
      "outputs": [
        {
          "output_type": "stream",
          "name": "stdout",
          "text": [
            "Número de exemplos de treinamento filtrados: 11344\n",
            "Número de exemplos de teste filtrados: 1872\n"
          ]
        }
      ]
    },
    {
      "cell_type": "markdown",
      "metadata": {
        "id": "VQK2NDHBE7TP"
      },
      "source": [
        "# **Criando a Deep Neural Network**"
      ]
    },
    {
      "cell_type": "markdown",
      "metadata": {
        "id": "HfAo2UinFClX"
      },
      "source": [
        "**Treinando em 60.000 amostras do dataset MNIST**"
      ]
    },
    {
      "cell_type": "code",
      "metadata": {
        "id": "KmGBbR9YBTDl"
      },
      "source": [
        "# Criando o Modelo de redes neurais agora\n",
        "model = Sequential()\n",
        "\n",
        "# Primeira Camada de Convolucão\n",
        "model.add(Conv2D(64, (3,3), input_shape = X_trainr.shape[1:])) # Somente a primeira camada de convolução que mencionamos o tamanho da camada de input (dataset de treino).\n",
        "model.add(Activation(\"relu\"))\n",
        "model.add(MaxPooling2D(pool_size=(2,2)))\n",
        "\n",
        "# Segunda Camada de Convolucão\n",
        "model.add(Conv2D(64, (3,3)))\n",
        "model.add(Activation(\"relu\"))\n",
        "model.add(MaxPooling2D(pool_size=(2,2)))\n",
        "\n",
        "# Terceira Camada de Convolucão\n",
        "model.add(Conv2D(64, (3,3)))\n",
        "model.add(Activation(\"relu\"))\n",
        "model.add(MaxPooling2D(pool_size=(2,2)))\n",
        "\n",
        "# Camada totalmente conectada 1°\n",
        "model.add(Flatten())\n",
        "model.add(Dense(64))\n",
        "model.add(Activation(\"relu\"))\n",
        "\n",
        "# Camada totalmente conectada 2°\n",
        "model.add(Dense(64))\n",
        "model.add(Activation(\"relu\"))\n",
        "\n",
        "# Última Camada de Convolucão\n",
        "model.add(Dense(10))\n",
        "model.add(Activation(\"softmax\"))\n"
      ],
      "execution_count": 15,
      "outputs": []
    },
    {
      "cell_type": "code",
      "metadata": {
        "id": "hskSGQf1EpMT",
        "colab": {
          "base_uri": "https://localhost:8080/"
        },
        "outputId": "ed1c7d1e-3034-4773-b76e-a4d7cff13f01"
      },
      "source": [
        "model.summary()"
      ],
      "execution_count": 16,
      "outputs": [
        {
          "output_type": "stream",
          "name": "stdout",
          "text": [
            "Model: \"sequential\"\n",
            "_________________________________________________________________\n",
            "Layer (type)                 Output Shape              Param #   \n",
            "=================================================================\n",
            "conv2d (Conv2D)              (None, 26, 26, 64)        640       \n",
            "_________________________________________________________________\n",
            "activation (Activation)      (None, 26, 26, 64)        0         \n",
            "_________________________________________________________________\n",
            "max_pooling2d (MaxPooling2D) (None, 13, 13, 64)        0         \n",
            "_________________________________________________________________\n",
            "conv2d_1 (Conv2D)            (None, 11, 11, 64)        36928     \n",
            "_________________________________________________________________\n",
            "activation_1 (Activation)    (None, 11, 11, 64)        0         \n",
            "_________________________________________________________________\n",
            "max_pooling2d_1 (MaxPooling2 (None, 5, 5, 64)          0         \n",
            "_________________________________________________________________\n",
            "conv2d_2 (Conv2D)            (None, 3, 3, 64)          36928     \n",
            "_________________________________________________________________\n",
            "activation_2 (Activation)    (None, 3, 3, 64)          0         \n",
            "_________________________________________________________________\n",
            "max_pooling2d_2 (MaxPooling2 (None, 1, 1, 64)          0         \n",
            "_________________________________________________________________\n",
            "flatten (Flatten)            (None, 64)                0         \n",
            "_________________________________________________________________\n",
            "dense (Dense)                (None, 64)                4160      \n",
            "_________________________________________________________________\n",
            "activation_3 (Activation)    (None, 64)                0         \n",
            "_________________________________________________________________\n",
            "dense_1 (Dense)              (None, 64)                4160      \n",
            "_________________________________________________________________\n",
            "activation_4 (Activation)    (None, 64)                0         \n",
            "_________________________________________________________________\n",
            "dense_2 (Dense)              (None, 10)                650       \n",
            "_________________________________________________________________\n",
            "activation_5 (Activation)    (None, 10)                0         \n",
            "=================================================================\n",
            "Total params: 83,466\n",
            "Trainable params: 83,466\n",
            "Non-trainable params: 0\n",
            "_________________________________________________________________\n"
          ]
        }
      ]
    },
    {
      "cell_type": "code",
      "metadata": {
        "id": "1g9p7d4FEpYZ",
        "colab": {
          "base_uri": "https://localhost:8080/"
        },
        "outputId": "af7eef31-9083-48a5-ecd1-727af005e42f"
      },
      "source": [
        "print(\"Total training samples = \", len(X_trainr))"
      ],
      "execution_count": 17,
      "outputs": [
        {
          "output_type": "stream",
          "name": "stdout",
          "text": [
            "Total training samples =  11344\n"
          ]
        }
      ]
    },
    {
      "cell_type": "code",
      "metadata": {
        "id": "EZ9KO-qTEpkY"
      },
      "source": [
        "model.compile(loss = \"sparse_categorical_crossentropy\", optimizer=\"adam\", metrics=[\"accuracy\"])"
      ],
      "execution_count": 18,
      "outputs": []
    },
    {
      "cell_type": "code",
      "metadata": {
        "id": "PzQn3PzmEpu3",
        "colab": {
          "base_uri": "https://localhost:8080/"
        },
        "outputId": "1de9e0c2-e25b-4746-fddf-b4cc6d804e6f"
      },
      "source": [
        "model.fit(X_trainr, y_train, epochs=5, validation_split= 0.3) # Treinando o modelo"
      ],
      "execution_count": 19,
      "outputs": [
        {
          "output_type": "stream",
          "name": "stdout",
          "text": [
            "Epoch 1/5\n",
            "249/249 [==============================] - 4s 10ms/step - loss: 0.2089 - accuracy: 0.9228 - val_loss: 0.0321 - val_accuracy: 0.9885\n",
            "Epoch 2/5\n",
            "249/249 [==============================] - 2s 10ms/step - loss: 0.0210 - accuracy: 0.9921 - val_loss: 0.0190 - val_accuracy: 0.9938\n",
            "Epoch 3/5\n",
            "249/249 [==============================] - 2s 9ms/step - loss: 0.0163 - accuracy: 0.9937 - val_loss: 0.0140 - val_accuracy: 0.9956\n",
            "Epoch 4/5\n",
            "249/249 [==============================] - 2s 9ms/step - loss: 0.0081 - accuracy: 0.9976 - val_loss: 0.0182 - val_accuracy: 0.9947\n",
            "Epoch 5/5\n",
            "249/249 [==============================] - 2s 10ms/step - loss: 0.0080 - accuracy: 0.9966 - val_loss: 0.0107 - val_accuracy: 0.9959\n"
          ]
        },
        {
          "output_type": "execute_result",
          "data": {
            "text/plain": [
              "<keras.callbacks.History at 0x7f256f6431d0>"
            ]
          },
          "metadata": {},
          "execution_count": 19
        }
      ]
    },
    {
      "cell_type": "code",
      "metadata": {
        "id": "ZxOBNaZOAGeO"
      },
      "source": [
        ""
      ],
      "execution_count": null,
      "outputs": []
    },
    {
      "cell_type": "code",
      "metadata": {
        "id": "Vse6DjOsEp7p",
        "colab": {
          "base_uri": "https://localhost:8080/"
        },
        "outputId": "18d18740-2da9-4a7d-ef4b-9d1a13b9f6ce"
      },
      "source": [
        "# Evaluating no teste data set Mninst\n",
        "\n",
        "test_loss, test_acc = model.evaluate(X_testr, y_test)\n",
        "print(\"Teste Loss em 10,000 testes de amostra\", test_loss)\n",
        "print(\"Validação de Acurácia em 10,000 testes de amostra\", test_acc)"
      ],
      "execution_count": 20,
      "outputs": [
        {
          "output_type": "stream",
          "name": "stdout",
          "text": [
            "59/59 [==============================] - 0s 5ms/step - loss: 0.0149 - accuracy: 0.9963\n",
            "Teste Loss em 10,000 testes de amostra 0.014908279292285442\n",
            "Validação de Acurácia em 10,000 testes de amostra 0.9962607026100159\n"
          ]
        }
      ]
    },
    {
      "cell_type": "code",
      "metadata": {
        "id": "lIHnjYFREqFE"
      },
      "source": [
        "predictions = model.predict([X_testr])"
      ],
      "execution_count": 21,
      "outputs": []
    },
    {
      "cell_type": "code",
      "metadata": {
        "id": "cdKMonKrEqNo",
        "colab": {
          "base_uri": "https://localhost:8080/"
        },
        "outputId": "4c616070-d5d6-4977-b589-4094fb610f90"
      },
      "source": [
        "print(predictions) ## Certamente aquels predições  que são baseadas em One Hot Encode entao são somente arrays, contendo softmax "
      ],
      "execution_count": 22,
      "outputs": [
        {
          "output_type": "stream",
          "name": "stdout",
          "text": [
            "[[9.99898911e-01 1.73175678e-07 5.33895275e-08 ... 4.06554619e-07\n",
            "  1.35848886e-05 2.00220768e-07]\n",
            " [1.04861094e-04 2.83220256e-08 2.15355804e-08 ... 8.39209164e-08\n",
            "  3.88538126e-07 3.96170785e-09]\n",
            " [9.99308109e-01 2.37551967e-06 1.01267210e-06 ... 4.07993957e-06\n",
            "  1.00435842e-04 2.60496063e-06]\n",
            " ...\n",
            " [1.16546836e-07 6.46471154e-10 3.98637984e-10 ... 3.61965924e-09\n",
            "  2.58172261e-09 7.16185583e-11]\n",
            " [9.96879339e-01 7.97132634e-06 3.38829841e-06 ... 1.12301632e-05\n",
            "  1.93337823e-04 7.16968316e-06]\n",
            " [3.59151818e-05 1.10244812e-07 6.49605596e-08 ... 2.31041284e-07\n",
            "  5.32311162e-07 1.33968321e-08]]\n"
          ]
        }
      ]
    },
    {
      "cell_type": "code",
      "metadata": {
        "id": "IGJVH4tyBTLJ",
        "colab": {
          "base_uri": "https://localhost:8080/"
        },
        "outputId": "79202de7-8ae1-4de9-bbd4-ac7d982e18a2"
      },
      "source": [
        "print(np.argmax(predictions[0]))"
      ],
      "execution_count": 23,
      "outputs": [
        {
          "output_type": "stream",
          "name": "stdout",
          "text": [
            "0\n"
          ]
        }
      ]
    },
    {
      "cell_type": "code",
      "metadata": {
        "id": "rqiAhkqB1xC_"
      },
      "source": [
        "IMG_SIZE=28\n",
        "X_testr = np.array(X_testr).reshape(-1, IMG_SIZE, IMG_SIZE, 1 )"
      ],
      "execution_count": 29,
      "outputs": []
    },
    {
      "cell_type": "code",
      "metadata": {
        "colab": {
          "base_uri": "https://localhost:8080/"
        },
        "id": "NSh7jzYz1330",
        "outputId": "72d8bce6-2924-44a9-d791-cd36ac6b198c"
      },
      "source": [
        "X_testr.shape"
      ],
      "execution_count": 35,
      "outputs": [
        {
          "output_type": "execute_result",
          "data": {
            "text/plain": [
              "(1872, 28, 28, 1)"
            ]
          },
          "metadata": {},
          "execution_count": 35
        }
      ]
    },
    {
      "cell_type": "markdown",
      "metadata": {
        "id": "LbmhlsctwIq0"
      },
      "source": [
        "# **Agora iremos testar nosso modelo**"
      ]
    },
    {
      "cell_type": "markdown",
      "metadata": {
        "id": "lL5DcrkjwSc5"
      },
      "source": [
        "**Vamos usar nosso modelo no dataset de teste e em seguinda vamos exibir a imagem e ver se obtivemos êxito:**"
      ]
    },
    {
      "cell_type": "code",
      "metadata": {
        "colab": {
          "base_uri": "https://localhost:8080/"
        },
        "id": "bv0r_Cyx7JEn",
        "outputId": "377ac2e7-da23-4dc4-9028-6531e6b1a6e0"
      },
      "source": [
        "# TESTANDO PREDIÇÃO\n",
        "\n",
        "# Pergunta: Qual é o número que está na imagem do index 56?\n",
        "\n",
        "# Resposta:\n",
        "print(\"O número que está na imagem é o \" + np.argmax(predictions[56]))"
      ],
      "execution_count": 45,
      "outputs": [
        {
          "output_type": "stream",
          "name": "stdout",
          "text": [
            "5\n"
          ]
        }
      ]
    },
    {
      "cell_type": "code",
      "metadata": {
        "colab": {
          "base_uri": "https://localhost:8080/",
          "height": 283
        },
        "id": "HxovTA_84WZn",
        "outputId": "26957409-f1bf-459d-fa61-f0e66d42bc46"
      },
      "source": [
        "# VERIFICA VALOR\n",
        "\n",
        "verifica_valor = np.reshape(X_testr[56], (28,28))\n",
        "plt.imshow(verifica_valor)"
      ],
      "execution_count": 44,
      "outputs": [
        {
          "output_type": "execute_result",
          "data": {
            "text/plain": [
              "<matplotlib.image.AxesImage at 0x7f247d91ae10>"
            ]
          },
          "metadata": {},
          "execution_count": 44
        },
        {
          "output_type": "display_data",
          "data": {
            "image/png": "[encoded data removed]",
            "text/plain": [
              "<Figure size 432x288 with 1 Axes>"
            ]
          },
          "metadata": {
            "needs_background": "light"
          }
        }
      ]
    },
    {
      "cell_type": "code",
      "metadata": {
        "colab": {
          "base_uri": "https://localhost:8080/"
        },
        "id": "HPEaYjBF6eCl",
        "outputId": "09e9b8b8-9a20-40a1-c7d0-f5b010d179fd"
      },
      "source": [
        "\n",
        "# TESTANDO PREDIÇÃO\n",
        "\n",
        "# Pergunta: Qual é o número que está na imagem do index 6?\n",
        "\n",
        "# Resposta:\n",
        "print(\"O número que está na imagem é o \" + np.argmax(predictions[6]))"
      ],
      "execution_count": 46,
      "outputs": [
        {
          "output_type": "stream",
          "name": "stdout",
          "text": [
            "0\n"
          ]
        }
      ]
    },
    {
      "cell_type": "code",
      "metadata": {
        "colab": {
          "base_uri": "https://localhost:8080/",
          "height": 283
        },
        "id": "raUkiKyN6gOE",
        "outputId": "f90bbe7c-4c21-4c01-c3e3-acffe9469847"
      },
      "source": [
        "# VERIFICA VALOR\n",
        "\n",
        "verifica_valor = np.reshape(X_testr[6], (28,28))\n",
        "plt.imshow(verifica_valor)"
      ],
      "execution_count": 47,
      "outputs": [
        {
          "output_type": "execute_result",
          "data": {
            "text/plain": [
              "<matplotlib.image.AxesImage at 0x7f247d84dd10>"
            ]
          },
          "metadata": {},
          "execution_count": 47
        },
        {
          "output_type": "display_data",
          "data": {
            "image/png": "[encoded data removed]",
            "text/plain": [
              "<Figure size 432x288 with 1 Axes>"
            ]
          },
          "metadata": {
            "needs_background": "light"
          }
        }
      ]
    },
    {
      "cell_type": "code",
      "metadata": {
        "colab": {
          "base_uri": "https://localhost:8080/"
        },
        "id": "TiB_CwAa6gZD",
        "outputId": "4151a9d2-8fb7-40e0-bd5e-3fe15e2e895c"
      },
      "source": [
        "# TESTANDO PREDIÇÃO\n",
        "\n",
        "# Pergunta: Qual é o número que está na imagem do  primeiro index?\n",
        "\n",
        "# Resposta:\n",
        "print(\"O número que está na imagem é o \" + np.argmax(predictions[0]))"
      ],
      "execution_count": 48,
      "outputs": [
        {
          "output_type": "stream",
          "name": "stdout",
          "text": [
            "0\n"
          ]
        }
      ]
    },
    {
      "cell_type": "code",
      "metadata": {
        "colab": {
          "base_uri": "https://localhost:8080/",
          "height": 283
        },
        "id": "NgA1O9xT6gjL",
        "outputId": "f25b9ba3-427c-4189-e55c-25dd995bf6e6"
      },
      "source": [
        "# VERIFICA VALOR\n",
        "\n",
        "verifica_valor = np.reshape(X_testr[0], (28,28))\n",
        "plt.imshow(verifica_valor)"
      ],
      "execution_count": 49,
      "outputs": [
        {
          "output_type": "execute_result",
          "data": {
            "text/plain": [
              "<matplotlib.image.AxesImage at 0x7f247d7c0450>"
            ]
          },
          "metadata": {},
          "execution_count": 49
        },
        {
          "output_type": "display_data",
          "data": {
            "image/png": "[encoded data removed]",
            "text/plain": [
              "<Figure size 432x288 with 1 Axes>"
            ]
          },
          "metadata": {
            "needs_background": "light"
          }
        }
      ]
    },
    {
      "cell_type": "code",
      "metadata": {
        "id": "o92CH4GP6gtQ"
      },
      "source": [
        ""
      ],
      "execution_count": null,
      "outputs": []
    },
    {
      "cell_type": "code",
      "metadata": {
        "id": "at6YoGhK6g4Y"
      },
      "source": [
        ""
      ],
      "execution_count": null,
      "outputs": []
    },
    {
      "cell_type": "code",
      "metadata": {
        "id": "E_Kzm6a46hDJ"
      },
      "source": [
        ""
      ],
      "execution_count": null,
      "outputs": []
    },
    {
      "cell_type": "markdown",
      "metadata": {
        "id": "zr8H3xSZ5iBe"
      },
      "source": [
        "# AQUI PODEMOS TESTAR COM IMAGEMS FEITAS POR NÓS MESMOS"
      ]
    },
    {
      "cell_type": "markdown",
      "metadata": {
        "id": "hzL4ytMk5r4X"
      },
      "source": [
        "Basta desenharmos um número, por exemplo, no paint e salvar, e depois seguindo as intruções podemos usar o modelo para predizer o valor desenhado na imagem."
      ]
    },
    {
      "cell_type": "code",
      "metadata": {
        "id": "XK4p4YvA67Rz"
      },
      "source": [
        ""
      ],
      "execution_count": null,
      "outputs": []
    },
    {
      "cell_type": "code",
      "metadata": {
        "id": "ICV_Oy7o7Sko"
      },
      "source": [
        "import cv2 "
      ],
      "execution_count": 17,
      "outputs": []
    },
    {
      "cell_type": "code",
      "metadata": {
        "colab": {
          "base_uri": "https://localhost:8080/"
        },
        "id": "tXZ2AO6lVl_K",
        "outputId": "02cd547a-ea35-4809-e92f-61b0336eb20a"
      },
      "source": [
        "print(np.argmax(predictions[178]))"
      ],
      "execution_count": 24,
      "outputs": [
        {
          "output_type": "stream",
          "name": "stdout",
          "text": [
            "1\n"
          ]
        }
      ]
    },
    {
      "cell_type": "code",
      "metadata": {
        "colab": {
          "base_uri": "https://localhost:8080/",
          "height": 283
        },
        "id": "LKc8JKWyVzO-",
        "outputId": "9f7cfbdb-d9fd-4e5c-8e40-faa60230467a"
      },
      "source": [
        "plt.imshow(X_test[178])"
      ],
      "execution_count": 25,
      "outputs": [
        {
          "output_type": "execute_result",
          "data": {
            "text/plain": [
              "<matplotlib.image.AxesImage at 0x7f32ae316810>"
            ]
          },
          "metadata": {},
          "execution_count": 25
        },
        {
          "output_type": "display_data",
          "data": {
            "image/png": "[encoded data removed]",
            "text/plain": [
              "<Figure size 432x288 with 1 Axes>"
            ]
          },
          "metadata": {
            "needs_background": "light"
          }
        }
      ]
    },
    {
      "cell_type": "code",
      "metadata": {
        "id": "T-_wk9cSAe15"
      },
      "source": [
        "img = cv2.imread(\"oito.png\")"
      ],
      "execution_count": null,
      "outputs": []
    },
    {
      "cell_type": "code",
      "metadata": {
        "id": "sWhyJ67sAnQ6"
      },
      "source": [
        "plt.imshow()"
      ],
      "execution_count": null,
      "outputs": []
    },
    {
      "cell_type": "code",
      "metadata": {
        "id": "FzcQ1A16ApOp"
      },
      "source": [
        "resized =(gray, (28,28), interpolation = cv2.INTER_AREA )"
      ],
      "execution_count": null,
      "outputs": []
    },
    {
      "cell_type": "code",
      "metadata": {
        "id": "jSjk-PE0A0OL"
      },
      "source": [
        "img.shape"
      ],
      "execution_count": null,
      "outputs": []
    },
    {
      "cell_type": "code",
      "metadata": {
        "id": "OzkehspQKKTN"
      },
      "source": [
        "gray = cv2.cvtColor(img, cv2.COLOR_BRG2GRAY)"
      ],
      "execution_count": null,
      "outputs": []
    },
    {
      "cell_type": "code",
      "metadata": {
        "id": "C9_t1w9dKTO-"
      },
      "source": [
        "gray.shape"
      ],
      "execution_count": null,
      "outputs": []
    },
    {
      "cell_type": "code",
      "metadata": {
        "id": "PcEsqjfUKcAR"
      },
      "source": [
        "resized = cv2.resize(gray, (28, 28), interpolation = cv2.INTER_AREA)"
      ],
      "execution_count": null,
      "outputs": []
    },
    {
      "cell_type": "code",
      "metadata": {
        "id": "K_aZCIgjKxtP"
      },
      "source": [
        "resized.shape"
      ],
      "execution_count": null,
      "outputs": []
    },
    {
      "cell_type": "code",
      "metadata": {
        "id": "kSPPajrMK86P"
      },
      "source": [
        "newimg = tf.keras.utils.normalize (resized, axis = 1)"
      ],
      "execution_count": null,
      "outputs": []
    },
    {
      "cell_type": "code",
      "metadata": {
        "id": "rmzAXhHiLuKf"
      },
      "source": [
        "newing = np.array(newing).reshape(-1)"
      ],
      "execution_count": null,
      "outputs": []
    },
    {
      "cell_type": "code",
      "metadata": {
        "id": "HhL9-RFxA0rK"
      },
      "source": [
        ""
      ],
      "execution_count": null,
      "outputs": []
    },
    {
      "cell_type": "code",
      "metadata": {
        "id": "fv5FBL2vApeX"
      },
      "source": [
        ""
      ],
      "execution_count": null,
      "outputs": []
    },
    {
      "cell_type": "code",
      "metadata": {
        "id": "LoOr6_E6Apon"
      },
      "source": [
        ""
      ],
      "execution_count": null,
      "outputs": []
    }
  ]
}